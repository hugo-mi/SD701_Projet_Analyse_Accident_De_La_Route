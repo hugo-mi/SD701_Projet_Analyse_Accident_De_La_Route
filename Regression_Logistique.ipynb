{
 "cells": [
  {
   "cell_type": "markdown",
   "metadata": {},
   "source": [
    "# Régression Logistique"
   ]
  },
  {
   "cell_type": "markdown",
   "metadata": {},
   "source": [
    "## Import des librairies"
   ]
  },
  {
   "cell_type": "code",
   "execution_count": 1,
   "metadata": {},
   "outputs": [],
   "source": [
    "import pandas as pd \n",
    "import numpy as np \n",
    "\n",
    "from sklearn.linear_model import LogisticRegression\n",
    "from sklearn.model_selection import train_test_split\n",
    "from sklearn.model_selection import RepeatedStratifiedKFold\n",
    "from sklearn.model_selection import GridSearchCV\n",
    "from sklearn import linear_model"
   ]
  },
  {
   "cell_type": "markdown",
   "metadata": {},
   "source": [
    "## Import de la table data_accident issue de notre pré-processing"
   ]
  },
  {
   "cell_type": "code",
   "execution_count": 2,
   "metadata": {},
   "outputs": [],
   "source": [
    "%store -r accident_share\n",
    "\n",
    "data_accident = accident_share.copy()"
   ]
  },
  {
   "cell_type": "markdown",
   "metadata": {},
   "source": [
    "## Split de la table data_accident en $X$ pour nos données et en $y$ pour notre target"
   ]
  },
  {
   "cell_type": "code",
   "execution_count": 3,
   "metadata": {},
   "outputs": [],
   "source": [
    "y = data_accident.loc[:,['grave_ou_decede']]\n",
    "X = data_accident.drop(['grave_ou_decede'], axis=1).copy()"
   ]
  },
  {
   "cell_type": "markdown",
   "metadata": {},
   "source": [
    "## Liste des variables issues du proccessus : feature selection "
   ]
  },
  {
   "cell_type": "code",
   "execution_count": 4,
   "metadata": {},
   "outputs": [],
   "source": [
    "var_selec = ['reg_IDF',\n",
    " 'route_departementale',\n",
    " 'agg',\n",
    " 'circ_bidirectionnelle',\n",
    " 'vehic_voiture',\n",
    " 'obsm_vehicule',\n",
    " 'Sens_Circu_Identique',\n",
    " 'vehic_2roues',\n",
    " 'senior_plus',\n",
    " 'choc_avant']"
   ]
  },
  {
   "cell_type": "markdown",
   "metadata": {},
   "source": [
    "## Grid Search"
   ]
  },
  {
   "cell_type": "markdown",
   "metadata": {},
   "source": [
    "### Optimisation des hyperparamètres de notre Régression Logistique avec Grid Search"
   ]
  },
  {
   "cell_type": "markdown",
   "metadata": {},
   "source": [
    "Souvent, les effets des hyperparamètres sur un modèle sont connus, mais comment définir au mieux un hyperparamètre et des combinaisons d'hyperparamètres qui sont en interaction pour un jeu de données. Il existe souvent des heuristiques générales ou des règles empiriques pour configurer les hyperparamètres.\n",
    "\n",
    "Une bonne approche consiste à rechercher différentes valeurs pour les hyperparamètres du modèle et choisir un sous-ensemble qui atteint les meilleures performances sur un ensemble de données, c'est ce qu'on appelle l' optimisation des hyperparamètres. Le résultat d'une optimisation d'hyperparamètres est un ensemble unique d'hyperparamètres performants que nous pouvons utiliser pour configurer notre modèle.\n",
    "\n",
    "Nous évaluerons les configurations du modèle à l'aide d' une validation croisée stratifiée répétée à k-fold avec trois répétitions et 10 splits.\n",
    "\n",
    "Ensuite, nous pouvons définir l'espace de recherche de nos hyperparamètres :\n",
    "\n",
    "La régression logistique nécessite trois paramètres « C », « pénalité » et « solver » qui seront optimisés par GridSearchCV. Nous avons donc défini ces trois paramètres sous forme de liste de valeurs dont GridSearchCV sélectionnera la meilleure valeur de paramètre."
   ]
  },
  {
   "cell_type": "code",
   "execution_count": 15,
   "metadata": {},
   "outputs": [
    {
     "name": "stderr",
     "output_type": "stream",
     "text": [
      "D:\\anaconda\\lib\\site-packages\\sklearn\\utils\\validation.py:985: DataConversionWarning: A column-vector y was passed when a 1d array was expected. Please change the shape of y to (n_samples, ), for example using ravel().\n",
      "  y = column_or_1d(y, warn=True)\n"
     ]
    },
    {
     "name": "stdout",
     "output_type": "stream",
     "text": [
      "Best: 0.744630 using {'C': 0.01, 'penalty': 'l2', 'solver': 'liblinear'}\n",
      "0.744023 (0.005416) with: {'C': 100, 'penalty': 'l2', 'solver': 'newton-cg'}\n",
      "0.744012 (0.005402) with: {'C': 100, 'penalty': 'l2', 'solver': 'lbfgs'}\n",
      "0.744023 (0.005400) with: {'C': 100, 'penalty': 'l2', 'solver': 'liblinear'}\n",
      "0.744018 (0.005421) with: {'C': 10, 'penalty': 'l2', 'solver': 'newton-cg'}\n",
      "0.744012 (0.005402) with: {'C': 10, 'penalty': 'l2', 'solver': 'lbfgs'}\n",
      "0.744035 (0.005414) with: {'C': 10, 'penalty': 'l2', 'solver': 'liblinear'}\n",
      "0.744040 (0.005410) with: {'C': 1.0, 'penalty': 'l2', 'solver': 'newton-cg'}\n",
      "0.744035 (0.005418) with: {'C': 1.0, 'penalty': 'l2', 'solver': 'lbfgs'}\n",
      "0.744023 (0.005424) with: {'C': 1.0, 'penalty': 'l2', 'solver': 'liblinear'}\n",
      "0.744369 (0.005475) with: {'C': 0.1, 'penalty': 'l2', 'solver': 'newton-cg'}\n",
      "0.744363 (0.005471) with: {'C': 0.1, 'penalty': 'l2', 'solver': 'lbfgs'}\n",
      "0.744380 (0.005336) with: {'C': 0.1, 'penalty': 'l2', 'solver': 'liblinear'}\n",
      "0.744550 (0.005290) with: {'C': 0.01, 'penalty': 'l2', 'solver': 'newton-cg'}\n",
      "0.744550 (0.005290) with: {'C': 0.01, 'penalty': 'l2', 'solver': 'lbfgs'}\n",
      "0.744630 (0.005311) with: {'C': 0.01, 'penalty': 'l2', 'solver': 'liblinear'}\n",
      "0.741973 (0.005276) with: {'C': 0.001, 'penalty': 'l2', 'solver': 'newton-cg'}\n",
      "0.741973 (0.005276) with: {'C': 0.001, 'penalty': 'l2', 'solver': 'lbfgs'}\n",
      "0.741094 (0.005101) with: {'C': 0.001, 'penalty': 'l2', 'solver': 'liblinear'}\n",
      "0.677209 (0.002619) with: {'C': 0.0001, 'penalty': 'l2', 'solver': 'newton-cg'}\n",
      "0.677215 (0.002624) with: {'C': 0.0001, 'penalty': 'l2', 'solver': 'lbfgs'}\n",
      "0.686976 (0.003328) with: {'C': 0.0001, 'penalty': 'l2', 'solver': 'liblinear'}\n"
     ]
    }
   ],
   "source": [
    "# define models and parameters\n",
    "model = LogisticRegression()\n",
    "solvers = ['newton-cg', 'lbfgs', 'liblinear']\n",
    "penalty = ['l2']\n",
    "c_values = [100, 10, 1.0, 0.1, 0.01,0.001, 0.0001]\n",
    "\n",
    "# define grid search\n",
    "grid = dict(solver=solvers,penalty=penalty,C=c_values)\n",
    "cv = RepeatedStratifiedKFold(n_splits=10, n_repeats=3, random_state=1)\n",
    "grid_search = GridSearchCV(estimator=model, param_grid=grid, n_jobs=-1, cv=cv, scoring='accuracy',error_score=0)\n",
    "\n",
    "grid_result = grid_search.fit(X[var_selec].to_numpy(), y.to_numpy().ravel())\n",
    "\n",
    "# summarize results\n",
    "print(\"Best: %f using %s\" % (grid_result.best_score_, grid_result.best_params_))\n",
    "means = grid_result.cv_results_['mean_test_score']\n",
    "stds = grid_result.cv_results_['std_test_score']\n",
    "params = grid_result.cv_results_['params']\n",
    "for mean, stdev, param in zip(means, stds, params):\n",
    "    print(\"%f (%f) with: %r\" % (mean, stdev, param))"
   ]
  },
  {
   "cell_type": "markdown",
   "metadata": {},
   "source": [
    "À la fin du grid search, le meilleur score et la configuration d'hyperparamètres ayant obtenu les meilleures performances sont retournés. Nous pouvons voir que la meilleure configuration atteint une précision d'environ $74%$, pour des valeurs spécifiques du solveur égale à $liblniear$, pour une pénalité $l2$ et pour un $C = 0.01$. C'est avec ce tunning des hyperparamètre que l'on atteint le score optimal."
   ]
  },
  {
   "cell_type": "markdown",
   "metadata": {},
   "source": [
    "## Initialisons notre $Régression$ $Logistique$ avec les hyperparamètres calculés précédemment"
   ]
  },
  {
   "cell_type": "code",
   "execution_count": 6,
   "metadata": {},
   "outputs": [
    {
     "data": {
      "text/plain": [
       "LogisticRegression(C=0.01, solver='liblinear')"
      ]
     },
     "execution_count": 6,
     "metadata": {},
     "output_type": "execute_result"
    }
   ],
   "source": [
    "modele_logit = LogisticRegression(C= grid_result.best_params_['C'], \n",
    "                                  penalty=grid_result.best_params_['penalty'],\n",
    "                                  solver=grid_result.best_params_['solver'])\n",
    "modele_logit.fit(X[var_selec].to_numpy(),y.to_numpy().ravel())"
   ]
  },
  {
   "cell_type": "markdown",
   "metadata": {},
   "source": [
    "## Les coéfficients de la $Régression$ $Logistique$"
   ]
  },
  {
   "cell_type": "code",
   "execution_count": 7,
   "metadata": {},
   "outputs": [
    {
     "data": {
      "text/html": [
       "<div>\n",
       "<style scoped>\n",
       "    .dataframe tbody tr th:only-of-type {\n",
       "        vertical-align: middle;\n",
       "    }\n",
       "\n",
       "    .dataframe tbody tr th {\n",
       "        vertical-align: top;\n",
       "    }\n",
       "\n",
       "    .dataframe thead th {\n",
       "        text-align: right;\n",
       "    }\n",
       "</style>\n",
       "<table border=\"1\" class=\"dataframe\">\n",
       "  <thead>\n",
       "    <tr style=\"text-align: right;\">\n",
       "      <th></th>\n",
       "      <th>coef</th>\n",
       "    </tr>\n",
       "  </thead>\n",
       "  <tbody>\n",
       "    <tr>\n",
       "      <th>constante</th>\n",
       "      <td>0.324630</td>\n",
       "    </tr>\n",
       "    <tr>\n",
       "      <th>reg_IDF</th>\n",
       "      <td>-1.362718</td>\n",
       "    </tr>\n",
       "    <tr>\n",
       "      <th>route_departementale</th>\n",
       "      <td>0.711668</td>\n",
       "    </tr>\n",
       "    <tr>\n",
       "      <th>agg</th>\n",
       "      <td>-0.952351</td>\n",
       "    </tr>\n",
       "    <tr>\n",
       "      <th>circ_bidirectionnelle</th>\n",
       "      <td>0.436616</td>\n",
       "    </tr>\n",
       "    <tr>\n",
       "      <th>vehic_voiture</th>\n",
       "      <td>-0.277939</td>\n",
       "    </tr>\n",
       "    <tr>\n",
       "      <th>obsm_vehicule</th>\n",
       "      <td>-0.434875</td>\n",
       "    </tr>\n",
       "    <tr>\n",
       "      <th>Sens_Circu_Identique</th>\n",
       "      <td>-0.385391</td>\n",
       "    </tr>\n",
       "    <tr>\n",
       "      <th>vehic_2roues</th>\n",
       "      <td>0.259477</td>\n",
       "    </tr>\n",
       "    <tr>\n",
       "      <th>senior_plus</th>\n",
       "      <td>0.346856</td>\n",
       "    </tr>\n",
       "    <tr>\n",
       "      <th>choc_avant</th>\n",
       "      <td>0.295873</td>\n",
       "    </tr>\n",
       "  </tbody>\n",
       "</table>\n",
       "</div>"
      ],
      "text/plain": [
       "                           coef\n",
       "constante              0.324630\n",
       "reg_IDF               -1.362718\n",
       "route_departementale   0.711668\n",
       "agg                   -0.952351\n",
       "circ_bidirectionnelle  0.436616\n",
       "vehic_voiture         -0.277939\n",
       "obsm_vehicule         -0.434875\n",
       "Sens_Circu_Identique  -0.385391\n",
       "vehic_2roues           0.259477\n",
       "senior_plus            0.346856\n",
       "choc_avant             0.295873"
      ]
     },
     "execution_count": 7,
     "metadata": {},
     "output_type": "execute_result"
    }
   ],
   "source": [
    "# Nous avons multiplié par 100 la valeur des coéfficients pour faciliter leur interprétation\n",
    "df_coef = pd.DataFrame(np.concatenate([modele_logit.intercept_.reshape(-1,1),\n",
    "                             modele_logit.coef_],axis=1),\n",
    "                       index = [\"coef\"],\n",
    "                       columns = [\"constante\"]+list(X[var_selec].columns)).T\n",
    "df_coef"
   ]
  },
  {
   "cell_type": "markdown",
   "metadata": {},
   "source": [
    "#### Analyse des coéfficients de la régression logistique"
   ]
  },
  {
   "cell_type": "markdown",
   "metadata": {},
   "source": [
    "### $Logit[P(GraveOuDecede_{i} = 1 | RegIDF, RouteDepartementale, Agg , CircBidirectionnelle, ...)]$ <br> <br>$ = \\beta_{0} + \\beta_{1}\\times RegIDF\t + \\beta_{2}\\times RouteDepartementale + \\beta_{3}\\times Agg + \\beta_{4}\\times CircBidirectionnelle + ...$ <br>\n",
    "$\\hat\\beta_{1} = -1.362718$ <br>\n",
    "$\\hat\\beta_{2} = 0.711668$ <br>\n",
    "$\\hat\\beta_{3} = -0.952351$ <br>\n",
    "$\\hat\\beta_{4} = 0.436616 $ <br>\n",
    "$\\hat\\beta_{5} = ...$ <br>"
   ]
  },
  {
   "cell_type": "markdown",
   "metadata": {},
   "source": [
    "#### Passons les coéfficients à l'exponentielle pour améliorer leur interprêtation"
   ]
  },
  {
   "cell_type": "code",
   "execution_count": 8,
   "metadata": {},
   "outputs": [
    {
     "data": {
      "text/html": [
       "<div>\n",
       "<style scoped>\n",
       "    .dataframe tbody tr th:only-of-type {\n",
       "        vertical-align: middle;\n",
       "    }\n",
       "\n",
       "    .dataframe tbody tr th {\n",
       "        vertical-align: top;\n",
       "    }\n",
       "\n",
       "    .dataframe thead th {\n",
       "        text-align: right;\n",
       "    }\n",
       "</style>\n",
       "<table border=\"1\" class=\"dataframe\">\n",
       "  <thead>\n",
       "    <tr style=\"text-align: right;\">\n",
       "      <th></th>\n",
       "      <th>name</th>\n",
       "      <th>coef</th>\n",
       "    </tr>\n",
       "  </thead>\n",
       "  <tbody>\n",
       "    <tr>\n",
       "      <th>0</th>\n",
       "      <td>constante</td>\n",
       "      <td>1.383518</td>\n",
       "    </tr>\n",
       "    <tr>\n",
       "      <th>1</th>\n",
       "      <td>reg_IDF</td>\n",
       "      <td>0.255964</td>\n",
       "    </tr>\n",
       "    <tr>\n",
       "      <th>2</th>\n",
       "      <td>route_departementale</td>\n",
       "      <td>2.037388</td>\n",
       "    </tr>\n",
       "    <tr>\n",
       "      <th>3</th>\n",
       "      <td>agg</td>\n",
       "      <td>0.385833</td>\n",
       "    </tr>\n",
       "    <tr>\n",
       "      <th>4</th>\n",
       "      <td>circ_bidirectionnelle</td>\n",
       "      <td>1.547462</td>\n",
       "    </tr>\n",
       "    <tr>\n",
       "      <th>5</th>\n",
       "      <td>vehic_voiture</td>\n",
       "      <td>0.757343</td>\n",
       "    </tr>\n",
       "    <tr>\n",
       "      <th>6</th>\n",
       "      <td>obsm_vehicule</td>\n",
       "      <td>0.647346</td>\n",
       "    </tr>\n",
       "    <tr>\n",
       "      <th>7</th>\n",
       "      <td>Sens_Circu_Identique</td>\n",
       "      <td>0.680185</td>\n",
       "    </tr>\n",
       "    <tr>\n",
       "      <th>8</th>\n",
       "      <td>vehic_2roues</td>\n",
       "      <td>1.296253</td>\n",
       "    </tr>\n",
       "    <tr>\n",
       "      <th>9</th>\n",
       "      <td>senior_plus</td>\n",
       "      <td>1.414614</td>\n",
       "    </tr>\n",
       "    <tr>\n",
       "      <th>10</th>\n",
       "      <td>choc_avant</td>\n",
       "      <td>1.344299</td>\n",
       "    </tr>\n",
       "  </tbody>\n",
       "</table>\n",
       "</div>"
      ],
      "text/plain": [
       "                     name      coef\n",
       "0               constante  1.383518\n",
       "1                 reg_IDF  0.255964\n",
       "2    route_departementale  2.037388\n",
       "3                     agg  0.385833\n",
       "4   circ_bidirectionnelle  1.547462\n",
       "5           vehic_voiture  0.757343\n",
       "6           obsm_vehicule  0.647346\n",
       "7    Sens_Circu_Identique  0.680185\n",
       "8            vehic_2roues  1.296253\n",
       "9             senior_plus  1.414614\n",
       "10             choc_avant  1.344299"
      ]
     },
     "execution_count": 8,
     "metadata": {},
     "output_type": "execute_result"
    }
   ],
   "source": [
    "df_coef.reset_index(drop = False, inplace = True)\n",
    "df_coef.rename(columns={\"index\": \"name\"}, inplace = True)\n",
    "df_coef['coef'] = np.exp(df_coef['coef'])\n",
    "df_coef"
   ]
  },
  {
   "cell_type": "markdown",
   "metadata": {},
   "source": [
    "regardons l'Odds ratio ou Rapport des cotes ($RC$) : <br>\n",
    "- $RC_{1} = e^{\\beta_{1}} = 0.256 < 1$ Si reg_IDF (region île de france, variable binaire) prend la valeur 1, la probabilité  d'être blésser gravement ou de décédé baisse <br> <br>\n",
    "- $RC_{2} = e^{\\beta_{2}} = 2.037 > 1$ Si route_departementale (route departementale, variable discrète) augmente d'une unité, la probabilité  d'être blésser gravement ou de décédé augmente <br> <br>\n",
    "- $RC_{3} = e^{\\beta_{3}} = 0.386 < 1$ Si agg (agglomération, variable binaire) prend la valeur 1, la probabilité  d'être blésser gravement ou de décédé baisse <br> <br>\n",
    "- $RC_{4} = e^{\\beta_{4}} = 1.547 > 1$ Si circ_bidirectionnelle (circulation bidirectionnelle, variable binaire) prend la valeur 1, la probabilité  d'être blésser gravement ou de décédé augmente <br> <br>\n",
    "- $...$\n",
    "\n"
   ]
  },
  {
   "cell_type": "markdown",
   "metadata": {},
   "source": [
    "## Conclusion"
   ]
  },
  {
   "cell_type": "markdown",
   "metadata": {},
   "source": [
    "Au regard des résultats de la régression logistique, les accidents aux conséquences les plus lourdes : être gravement bléssé ou décédé, concerne des accidents qui ont lieux en dehors des agglomérations sur des routes départementales là où la vitesse est plus élevée qu'en ville.\n",
    "\n",
    "Les rapports des cotes des coéfficients $reg$_$IDF$ et $agg$ nous indique qu'il y a moins d'accident grave en agglomération et en île de France, pourtant c'est là où la densité de la population est le plus élevé. Cela peut s'expliquer par le fait que la vitesse est moins élevé en ville ; ce qui cause moins d'accident grave. \n",
    "\n",
    "Les individus qui conduisent des deux roues ressortent des accidents avec des blessure plus grave que ceux qui conduisent des véhicules. Les personnes âgés sont plus sensibles aux chocs et ressortent des accidents avec des bléssure plus importantes. \n",
    "\n"
   ]
  },
  {
   "cell_type": "code",
   "execution_count": null,
   "metadata": {},
   "outputs": [],
   "source": []
  }
 ],
 "metadata": {
  "kernelspec": {
   "display_name": "Python 3",
   "language": "python",
   "name": "python3"
  },
  "language_info": {
   "codemirror_mode": {
    "name": "ipython",
    "version": 3
   },
   "file_extension": ".py",
   "mimetype": "text/x-python",
   "name": "python",
   "nbconvert_exporter": "python",
   "pygments_lexer": "ipython3",
   "version": "3.8.3"
  }
 },
 "nbformat": 4,
 "nbformat_minor": 5
}
